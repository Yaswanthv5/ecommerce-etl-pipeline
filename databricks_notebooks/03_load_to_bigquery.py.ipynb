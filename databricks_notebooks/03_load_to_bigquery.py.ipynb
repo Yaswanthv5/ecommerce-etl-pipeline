{
 "cells": [
  {
   "metadata": {},
   "cell_type": "code",
   "outputs": [],
   "execution_count": null,
   "source": [
    "%python\n",
    "\n",
    "import dlt\n",
    "from pyspark import SparkSession\n",
    "from pyspark.sql.functions import *\n",
    "\n",
    "bigqueryproject = \"batch-processing-de\"\n",
    "schema_name = \"e_com\"\n",
    "\n",
    "tables_list = [\"bronze_orders\",\"bronze_customers\",\"bronze_orders\",\"bronze_products\",\"silver_orders\",\"silver_sales\",\"silver_products\"]\n",
    "\n",
    "def load_to_bigquery(\n",
    "        bigqueryproject: str,\n",
    "        schema_name: str,\n",
    "        table_name: str,\n",
    "        location_path: str\n",
    "):\n",
    "        if \"bronze\" in table_name:\n",
    "            partition_col = \"bronze_ingestion_timestamp\"\n",
    "            print(f\"Reading data from {table_name}--------------------\")\n",
    "            df = dlt.read(bigqueryproject+'.'+schema_name+'.'+table_name)\n",
    "            print(f\"Writing data into {location_path}------------------\")\n",
    "            return(\n",
    "                df.write.mode(\"overwrite\").partitionBy(to_date(partition_col)).parquet(location_path)\n",
    "            )\n",
    "        else:\n",
    "            partition_col = \"silver_processed_timestamp\"\n",
    "            df = dlt.read(bigqueryproject+'.'+schema_name+'.'+table_name)\n",
    "            return(\n",
    "                df.write.mode(\"overwrite\").partitionBy(to_date(partition_col)).parquet(location_path)\n",
    "            )\n",
    "\n",
    "if __name__ == \"__main__\":\n",
    "    for i in tables_list:\n",
    "        location_path = f\"gs://batch-processing-de_dlt_storage/dlt_stagging_data/{i}\"\n",
    "        load_to_bigquery(bigqueryproject, schema_name, i, location_path)\n",
    "        print(f\"Data written into {location_path} for table {i}-----------------\")\n",
    "\n"
   ],
   "id": "f6da7b36dc4bdfdb"
  }
 ],
 "metadata": {
  "kernelspec": {
   "display_name": "Python 3",
   "language": "python",
   "name": "python3"
  },
  "language_info": {
   "codemirror_mode": {
    "name": "ipython",
    "version": 2
   },
   "file_extension": ".py",
   "mimetype": "text/x-python",
   "name": "python",
   "nbconvert_exporter": "python",
   "pygments_lexer": "ipython2",
   "version": "2.7.6"
  }
 },
 "nbformat": 4,
 "nbformat_minor": 5
}
